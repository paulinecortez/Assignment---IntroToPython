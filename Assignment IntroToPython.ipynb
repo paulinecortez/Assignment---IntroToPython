{
 "cells": [
  {
   "cell_type": "code",
   "execution_count": null,
   "metadata": {},
   "outputs": [],
   "source": [
    "195920\n",
    "Cortez\n",
    "2 BS ITE"
   ]
  },
  {
   "cell_type": "code",
   "execution_count": 6,
   "metadata": {},
   "outputs": [
    {
     "name": "stdout",
     "output_type": "stream",
     "text": [
      "Enter first number 10\n",
      "Enter second number 10\n",
      "Enter third number 10\n",
      "The average of 10.0,10.0 and 10.0 is 10.0.\n"
     ]
    }
   ],
   "source": [
    "def three_number_average(sums):\n",
    "    ave = sums\n",
    "    return sums/3\n",
    "\n",
    "num1 = float(input('Enter first number '))\n",
    "num2 = float(input('Enter second number '))\n",
    "num3 = float(input('Enter third number '))\n",
    "sums = num1 + num2 + num3\n",
    "\n",
    "ave = three_number_average(sums)\n",
    "\n",
    "print('The average of {0},{1} and {2} is {3}.'.format (num1, num2, num3, ave))\n"
   ]
  },
  {
   "cell_type": "code",
   "execution_count": null,
   "metadata": {},
   "outputs": [],
   "source": []
  },
  {
   "cell_type": "code",
   "execution_count": null,
   "metadata": {},
   "outputs": [],
   "source": []
  }
 ],
 "metadata": {
  "kernelspec": {
   "display_name": "Python 3",
   "language": "python",
   "name": "python3"
  },
  "language_info": {
   "codemirror_mode": {
    "name": "ipython",
    "version": 3
   },
   "file_extension": ".py",
   "mimetype": "text/x-python",
   "name": "python",
   "nbconvert_exporter": "python",
   "pygments_lexer": "ipython3",
   "version": "3.8.5"
  }
 },
 "nbformat": 4,
 "nbformat_minor": 4
}
